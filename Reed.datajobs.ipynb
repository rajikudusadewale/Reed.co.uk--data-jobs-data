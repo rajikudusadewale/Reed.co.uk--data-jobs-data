{
 "cells": [
  {
   "cell_type": "code",
   "execution_count": null,
   "metadata": {},
   "outputs": [],
   "source": [
    "from bs4 import BeautifulSoup\n",
    "import pandas as pd\n",
    "\n",
    "# Load the HTML content (assuming 'html_content' contains the HTML source code)\n",
    "with open('/path/to/your/html/file.html', 'r') as file:\n",
    "    html_content = file.read()\n",
    "\n",
    "soup = BeautifulSoup(html_content, 'html.parser')\n",
    "\n",
    "# Find all job cards in the HTML\n",
    "job_cards = soup.find_all('article', class_='job-card')\n",
    "\n",
    "# Extract job data from each job card\n",
    "jobs_data = []\n",
    "for job_card in job_cards:\n",
    "    title = job_card.find('a', attrs={\"data-qa\": \"job-card-title\"}).get_text(strip=True)\n",
    "    recruiter = job_card.find('a', class_=\"gtmJobListingPostedBy\").get_text(strip=True)\n",
    "    role_type = job_card.find('li', text=lambda t: \"full-time\" in t or \"part-time\" in t)\n",
    "    role_type = role_type.get_text(strip=True) if role_type else None\n",
    "    job_type = job_card.find('li', text=lambda t: \"work from home\" in t.lower())\n",
    "    job_type = job_type.get_text(strip=True) if job_type else None\n",
    "    \n",
    "    # Find all 'li' elements for metadata items and extract salary and location\n",
    "    metadata_items = job_card.find_all('li', class_='job-card_jobMetadata__item___QNud')\n",
    "    salary = None\n",
    "    location = None\n",
    "\n",
    "    for item in metadata_items:\n",
    "        svg_use = item.find('svg').find('use', recursive=False)\n",
    "        if svg_use and '#svg-salary' in svg_use.get('xlink:href', ''):\n",
    "            salary = item.get_text(strip=True)\n",
    "        elif svg_use and '#svg-location' in svg_use.get('xlink:href', ''):\n",
    "            location = item.get_text(strip=True)\n",
    "    \n",
    "    jobs_data.append({\n",
    "        'Title': title,\n",
    "        'Recruiter': recruiter,\n",
    "        'Salary': salary,\n",
    "        'Location': location,\n",
    "        'Role Type': role_type,\n",
    "        'Job Type': job_type\n",
    "    })\n",
    "\n",
    "# Create a DataFrame from the jobs data\n",
    "df_jobs = pd.DataFrame(jobs_data)\n",
    "\n",
    "# Saving the DataFrame as a CSV file\n",
    "csv_file_path = '/mnt/data/reed_job_data.csv'\n",
    "df_jobs.to_csv(csv_file_path, index=False)\n"
   ]
  }
 ],
 "metadata": {
  "language_info": {
   "name": "python"
  }
 },
 "nbformat": 4,
 "nbformat_minor": 2
}
